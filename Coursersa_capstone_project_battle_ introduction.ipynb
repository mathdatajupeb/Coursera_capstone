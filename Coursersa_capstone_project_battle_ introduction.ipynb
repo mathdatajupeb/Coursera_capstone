{
 "cells": [
  {
   "cell_type": "markdown",
   "metadata": {},
   "source": [
    "INTRODUCTION\n",
    "\n",
    "Ogun state is a state in the southwestern part of Nigeria with abundant natural resources\n",
    "and mineral deposits. The state is a major economic hub and has one of the largest concentration \n",
    "industries in Nigeria. This project seeks to explore the neighbourhood of the state with a view \n",
    "of identifying a potential location suitable for the establishment of a tourism business. In choosing\n",
    "the desired location, the availability of the following facilities will be considered.\n",
    "1. Transportation e.g airline industry, car rental and water transport.\n",
    "2. Accomodation e.g hotels, hostels and camping.\n",
    "3. Food and Beverages e.g restaurants, night clubs, cafes and catering.\n",
    "4. Entertainment e.g casino, shopping and toursit guides\n",
    "5. Connected industries.e.g financial services and travel agencies.\n",
    "The map of the state is shown below.\n",
    "\n",
    "\n"
   ]
  },
  {
   "cell_type": "markdown",
   "metadata": {},
   "source": []
  },
  {
   "cell_type": "code",
   "execution_count": null,
   "metadata": {},
   "outputs": [],
   "source": []
  }
 ],
 "metadata": {
  "kernelspec": {
   "display_name": "Python 3",
   "language": "python",
   "name": "python3"
  },
  "language_info": {
   "codemirror_mode": {
    "name": "ipython",
    "version": 3
   },
   "file_extension": ".py",
   "mimetype": "text/x-python",
   "name": "python",
   "nbconvert_exporter": "python",
   "pygments_lexer": "ipython3",
   "version": "3.8.3"
  }
 },
 "nbformat": 4,
 "nbformat_minor": 4
}
