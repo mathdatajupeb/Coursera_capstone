{
 "cells": [
  {
   "cell_type": "markdown",
   "metadata": {},
   "source": [
    "DATA DESCRIPTION.\n",
    "\n",
    "The data for the study is obtained from the wikipedia page https://en.wikipedia.org/wiki/List_of_Ogun_State_local_government_areas_by_population\n",
    "It is read by pandas and html function into a dataframe. The dataframe is cleaned and processed into a form suitable for our \n",
    "analysis.Some python libraries are imported and are used to process the dataframe further before the foursquare api is used \n",
    "to explore the data. Our conclusion is based on the results returned by the foursquare api\n",
    "\n"
   ]
  },
  {
   "cell_type": "code",
   "execution_count": null,
   "metadata": {},
   "outputs": [],
   "source": []
  }
 ],
 "metadata": {
  "kernelspec": {
   "display_name": "Python 3",
   "language": "python",
   "name": "python3"
  },
  "language_info": {
   "codemirror_mode": {
    "name": "ipython",
    "version": 3
   },
   "file_extension": ".py",
   "mimetype": "text/x-python",
   "name": "python",
   "nbconvert_exporter": "python",
   "pygments_lexer": "ipython3",
   "version": "3.8.3"
  }
 },
 "nbformat": 4,
 "nbformat_minor": 4
}
